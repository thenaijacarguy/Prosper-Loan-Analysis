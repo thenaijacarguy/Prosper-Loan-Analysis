{
 "cells": [
  {
   "cell_type": "markdown",
   "id": "12ca42e3",
   "metadata": {},
   "source": [
    "- If conditional\n",
    "- Loops\n",
    "- Functions"
   ]
  },
  {
   "cell_type": "markdown",
   "id": "7f8338cd",
   "metadata": {},
   "source": [
    "- Comparison Operators\n",
    "- Logical Operators\n"
   ]
  },
  {
   "cell_type": "markdown",
   "id": "9f53af53",
   "metadata": {},
   "source": [
    "#### Comparison Operators"
   ]
  },
  {
   "cell_type": "markdown",
   "id": "1ecd817e",
   "metadata": {},
   "source": [
    ">\n",
    "<\n",
    ">=\n",
    "<=\n",
    "!=\n",
    "=="
   ]
  },
  {
   "cell_type": "markdown",
   "id": "13c6b0c4",
   "metadata": {},
   "source": [
    "#### Logical Operators"
   ]
  },
  {
   "cell_type": "markdown",
   "id": "718c1a83",
   "metadata": {},
   "source": [
    "- AND\n",
    "- OR\n",
    "- NOT"
   ]
  },
  {
   "cell_type": "code",
   "execution_count": 1,
   "id": "8a513f62",
   "metadata": {},
   "outputs": [
    {
     "data": {
      "text/plain": [
       "False"
      ]
     },
     "execution_count": 1,
     "metadata": {},
     "output_type": "execute_result"
    }
   ],
   "source": [
    "5 > 7"
   ]
  },
  {
   "cell_type": "code",
   "execution_count": 2,
   "id": "8d88a27c",
   "metadata": {},
   "outputs": [
    {
     "data": {
      "text/plain": [
       "True"
      ]
     },
     "execution_count": 2,
     "metadata": {},
     "output_type": "execute_result"
    }
   ],
   "source": [
    "9 == 9"
   ]
  },
  {
   "cell_type": "code",
   "execution_count": 3,
   "id": "85eb491e",
   "metadata": {},
   "outputs": [
    {
     "data": {
      "text/plain": [
       "True"
      ]
     },
     "execution_count": 3,
     "metadata": {},
     "output_type": "execute_result"
    }
   ],
   "source": [
    "True and True"
   ]
  },
  {
   "cell_type": "code",
   "execution_count": 4,
   "id": "1328701a",
   "metadata": {},
   "outputs": [
    {
     "data": {
      "text/plain": [
       "False"
      ]
     },
     "execution_count": 4,
     "metadata": {},
     "output_type": "execute_result"
    }
   ],
   "source": [
    "True and False"
   ]
  },
  {
   "cell_type": "code",
   "execution_count": 6,
   "id": "2f5a27fd",
   "metadata": {},
   "outputs": [
    {
     "data": {
      "text/plain": [
       "False"
      ]
     },
     "execution_count": 6,
     "metadata": {},
     "output_type": "execute_result"
    }
   ],
   "source": [
    "False and False"
   ]
  },
  {
   "cell_type": "code",
   "execution_count": 7,
   "id": "04454811",
   "metadata": {},
   "outputs": [
    {
     "name": "stdout",
     "output_type": "stream",
     "text": [
      "The weather is hot\n"
     ]
    }
   ],
   "source": [
    "temperature = 30\n",
    "if temperature > 20:\n",
    "    print('The weather is hot')"
   ]
  },
  {
   "cell_type": "code",
   "execution_count": 8,
   "id": "b8367094",
   "metadata": {},
   "outputs": [],
   "source": [
    "temperature = 30\n",
    "if temperature < 20:\n",
    "    print('The weather is hot')"
   ]
  },
  {
   "cell_type": "code",
   "execution_count": 12,
   "id": "96b0df46",
   "metadata": {},
   "outputs": [
    {
     "name": "stdout",
     "output_type": "stream",
     "text": [
      "This is wrong\n"
     ]
    }
   ],
   "source": [
    "temperature = 30\n",
    "if temperature < 20:\n",
    "    print('The weather is hot')\n",
    "print('This is wrong')"
   ]
  },
  {
   "cell_type": "code",
   "execution_count": 14,
   "id": "ef255704",
   "metadata": {},
   "outputs": [
    {
     "name": "stdout",
     "output_type": "stream",
     "text": [
      "The weather is cold\n"
     ]
    }
   ],
   "source": [
    "temperature = 30\n",
    "if temperature < 20:\n",
    "    print('The weather is hot')\n",
    "else:\n",
    "    print('The weather is cold')"
   ]
  },
  {
   "cell_type": "code",
   "execution_count": null,
   "id": "43f6e6f2",
   "metadata": {},
   "outputs": [],
   "source": [
    "temperature = 30\n",
    "if temperature > 20:\n",
    "    print('The weather is hot')\n",
    "elif temperature > 30:\n",
    "    print('hot')\n",
    "elif temperature > 40:\n",
    "    print('hotter')\n",
    "else:\n",
    "    print('hottest')"
   ]
  },
  {
   "cell_type": "code",
   "execution_count": 20,
   "id": "f5c1f9bf",
   "metadata": {},
   "outputs": [
    {
     "name": "stdout",
     "output_type": "stream",
     "text": [
      "Eligible\n"
     ]
    }
   ],
   "source": [
    "high_income = True\n",
    "good_credit = False\n",
    "\n",
    "if high_income or good_credit:\n",
    "    print('Eligible')\n",
    "else:\n",
    "    print('Not Eligible')"
   ]
  },
  {
   "cell_type": "code",
   "execution_count": 17,
   "id": "e0ecd29a",
   "metadata": {},
   "outputs": [
    {
     "data": {
      "text/plain": [
       "True"
      ]
     },
     "execution_count": 17,
     "metadata": {},
     "output_type": "execute_result"
    }
   ],
   "source": [
    "True or True"
   ]
  },
  {
   "cell_type": "code",
   "execution_count": 19,
   "id": "afaf3619",
   "metadata": {},
   "outputs": [
    {
     "data": {
      "text/plain": [
       "True"
      ]
     },
     "execution_count": 19,
     "metadata": {},
     "output_type": "execute_result"
    }
   ],
   "source": [
    "True or False"
   ]
  },
  {
   "cell_type": "code",
   "execution_count": 22,
   "id": "2c1789f4",
   "metadata": {},
   "outputs": [
    {
     "name": "stdout",
     "output_type": "stream",
     "text": [
      "Eligible\n"
     ]
    }
   ],
   "source": [
    "high_income = True\n",
    "good_credit = False\n",
    "student = True\n",
    "\n",
    "if (high_income or good_credit) and not student:\n",
    "    print('Eligible')\n",
    "else:\n",
    "    print('Not Eligible')"
   ]
  },
  {
   "cell_type": "markdown",
   "id": "0423be04",
   "metadata": {},
   "source": [
    "### Loops"
   ]
  },
  {
   "cell_type": "markdown",
   "id": "94490b34",
   "metadata": {},
   "source": [
    "- For loop\n",
    "- While loop"
   ]
  },
  {
   "cell_type": "code",
   "execution_count": 23,
   "id": "b10d681d",
   "metadata": {},
   "outputs": [
    {
     "name": "stdout",
     "output_type": "stream",
     "text": [
      "excel\n",
      "sql\n",
      "power bi\n",
      "python\n"
     ]
    }
   ],
   "source": [
    "tools = ['excel', 'sql', 'power bi', 'python']\n",
    "for i in tools:\n",
    "    print(i)"
   ]
  },
  {
   "cell_type": "code",
   "execution_count": 25,
   "id": "e3c21291",
   "metadata": {},
   "outputs": [
    {
     "name": "stdout",
     "output_type": "stream",
     "text": [
      "100\n",
      "60\n",
      "90\n",
      "40\n"
     ]
    }
   ],
   "source": [
    "salaries = [50, 30, 45, 20]\n",
    "for x in salaries:\n",
    "    print(x * 2)"
   ]
  },
  {
   "cell_type": "markdown",
   "id": "a8d9fdca",
   "metadata": {},
   "source": [
    " - while loop"
   ]
  },
  {
   "cell_type": "code",
   "execution_count": 26,
   "id": "6b6e0ee0",
   "metadata": {},
   "outputs": [
    {
     "name": "stdout",
     "output_type": "stream",
     "text": [
      "Welcome to class\n",
      "Welcome to class\n",
      "Welcome to class\n",
      "Welcome to class\n",
      "Welcome to class\n",
      "Welcome to class\n",
      "Welcome to class\n"
     ]
    }
   ],
   "source": [
    "students = 0\n",
    "while students < 7:\n",
    "    print('Welcome to class')"
   ]
  },
  {
   "cell_type": "code",
   "execution_count": 27,
   "id": "3526373c",
   "metadata": {},
   "outputs": [
    {
     "name": "stdout",
     "output_type": "stream",
     "text": [
      "what is your weight?\n",
      "50\n",
      "you can enter\n",
      "what is your weight?\n",
      "70\n",
      "you can enter\n",
      "what is your weight?\n",
      "50\n",
      "you can enter\n",
      "what is your weight?\n",
      "70\n",
      "you can enter\n",
      "the lift is full\n"
     ]
    }
   ],
   "source": [
    "weight = 0\n",
    "while weight < 200:\n",
    "    print(\"what is your weight?\")\n",
    "    x = input()\n",
    "    weight = weight + int(x)\n",
    "    print('you can enter')\n",
    "else:\n",
    "    print('the lift is full')"
   ]
  },
  {
   "cell_type": "markdown",
   "id": "50cb342c",
   "metadata": {},
   "source": [
    "### Functions"
   ]
  },
  {
   "cell_type": "code",
   "execution_count": 28,
   "id": "f735d790",
   "metadata": {},
   "outputs": [],
   "source": [
    "def greet():\n",
    "    print('Hello World')\n",
    "    print('Welcome to Python')"
   ]
  },
  {
   "cell_type": "code",
   "execution_count": 29,
   "id": "b6180b91",
   "metadata": {},
   "outputs": [
    {
     "name": "stdout",
     "output_type": "stream",
     "text": [
      "Hello World\n",
      "Welcome to Python\n"
     ]
    }
   ],
   "source": [
    "greet()"
   ]
  },
  {
   "cell_type": "code",
   "execution_count": 32,
   "id": "e71a6a6a",
   "metadata": {},
   "outputs": [],
   "source": [
    "def greeting(first_name, last_name):\n",
    "    print(f\"Hello {first_name} {last_name}\")\n",
    "    print('Welcome to Python')"
   ]
  },
  {
   "cell_type": "code",
   "execution_count": 35,
   "id": "134088e7",
   "metadata": {},
   "outputs": [
    {
     "name": "stdout",
     "output_type": "stream",
     "text": [
      "Hello James Gabriel\n",
      "Welcome to Python\n"
     ]
    }
   ],
   "source": [
    "greeting(\"James\", 'Gabriel')"
   ]
  },
  {
   "cell_type": "code",
   "execution_count": 41,
   "id": "edaec57b",
   "metadata": {},
   "outputs": [],
   "source": [
    "def increment(number, by):\n",
    "    return number + by"
   ]
  },
  {
   "cell_type": "code",
   "execution_count": 37,
   "id": "daff151d",
   "metadata": {},
   "outputs": [
    {
     "data": {
      "text/plain": [
       "8"
      ]
     },
     "execution_count": 37,
     "metadata": {},
     "output_type": "execute_result"
    }
   ],
   "source": [
    "increment(5, 3)"
   ]
  },
  {
   "cell_type": "code",
   "execution_count": 44,
   "id": "def45b2c",
   "metadata": {},
   "outputs": [
    {
     "data": {
      "text/plain": [
       "6"
      ]
     },
     "execution_count": 44,
     "metadata": {},
     "output_type": "execute_result"
    }
   ],
   "source": [
    "increment(5)"
   ]
  },
  {
   "cell_type": "code",
   "execution_count": 48,
   "id": "2e4b193b",
   "metadata": {},
   "outputs": [],
   "source": [
    "def increment(number, by=1):\n",
    "    return number + by"
   ]
  },
  {
   "cell_type": "code",
   "execution_count": 49,
   "id": "1d0fbd73",
   "metadata": {},
   "outputs": [
    {
     "data": {
      "text/plain": [
       "11"
      ]
     },
     "execution_count": 49,
     "metadata": {},
     "output_type": "execute_result"
    }
   ],
   "source": [
    "increment(10)"
   ]
  },
  {
   "cell_type": "code",
   "execution_count": null,
   "id": "1cee2dcf",
   "metadata": {},
   "outputs": [],
   "source": [
    "def fizz_buzz(input):\n",
    "    "
   ]
  },
  {
   "cell_type": "code",
   "execution_count": null,
   "id": "ec62a9b2",
   "metadata": {},
   "outputs": [],
   "source": [
    "fizz_buzz(4)"
   ]
  },
  {
   "cell_type": "markdown",
   "id": "eaa184a3",
   "metadata": {},
   "source": [
    "- if input is divisible by 3, return the string \"Fizz\"\n",
    "- if input is divisible by 5, return the string \"Buzz\"\n",
    "- if input is divisible by 3 and 5, return the string \"FizzBuzz\"\n",
    "- if the input is any other number, it should return the input or number."
   ]
  },
  {
   "cell_type": "code",
   "execution_count": null,
   "id": "2ac2db49",
   "metadata": {},
   "outputs": [],
   "source": []
  }
 ],
 "metadata": {
  "kernelspec": {
   "display_name": "Python 3 (ipykernel)",
   "language": "python",
   "name": "python3"
  },
  "language_info": {
   "codemirror_mode": {
    "name": "ipython",
    "version": 3
   },
   "file_extension": ".py",
   "mimetype": "text/x-python",
   "name": "python",
   "nbconvert_exporter": "python",
   "pygments_lexer": "ipython3",
   "version": "3.10.9"
  }
 },
 "nbformat": 4,
 "nbformat_minor": 5
}
